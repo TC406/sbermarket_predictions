{
 "cells": [
  {
   "cell_type": "code",
   "execution_count": 2,
   "metadata": {},
   "outputs": [],
   "source": [
    "import numpy as np\n",
    "import pandas as pd\n",
    "import matplotlib.pyplot as plt"
   ]
  },
  {
   "cell_type": "code",
   "execution_count": 3,
   "metadata": {},
   "outputs": [
    {
     "name": "stdout",
     "output_type": "stream",
     "text": [
      "ls: cannot access sbermarket: No such file or directory\n",
      "/gpfs/gpfs0/k.gizatullin/sbermarket/data/sbermarket_tab_2_6:\n",
      "tab_2_products_2020-08-08.csv  tab_2_products_2020-08-28.csv\n",
      "tab_2_products_2020-08-18.csv  tab_2_products_2020-09-07.csv\n"
     ]
    }
   ],
   "source": [
    "ls  sbermarket /gpfs/gpfs0/k.gizatullin/sbermarket/data/sbermarket_tab_2_6"
   ]
  },
  {
   "cell_type": "code",
   "execution_count": 4,
   "metadata": {},
   "outputs": [],
   "source": [
    "september_csv = pd.read_csv(\"/gpfs/gpfs0/k.gizatullin/sbermarket/data/sbermarket_tab_2_6/tab_2_products_2020-09-07.csv\")"
   ]
  },
  {
   "cell_type": "code",
   "execution_count": 5,
   "metadata": {},
   "outputs": [],
   "source": [
    "orders_all = pd.read_csv(\"/gpfs/gpfs0/k.gizatullin/sbermarket/data/kaggle_tab_1345/tab_1_orders.csv\")"
   ]
  },
  {
   "cell_type": "code",
   "execution_count": 6,
   "metadata": {},
   "outputs": [],
   "source": [
    "orders_all = pd.read_csv(\"/gpfs/gpfs0/k.gizatullin/sbermarket/data/kaggle_tab_1345/tab_1_orders.csv\")"
   ]
  },
  {
   "cell_type": "code",
   "execution_count": 7,
   "metadata": {},
   "outputs": [
    {
     "data": {
      "text/plain": [
       "0       METRO\n",
       "1       METRO\n",
       "2       METRO\n",
       "3    ВкусВилл\n",
       "4        Ашан\n",
       "Name: retailer, dtype: object"
      ]
     },
     "execution_count": 7,
     "metadata": {},
     "output_type": "execute_result"
    }
   ],
   "source": [
    "orders_all['retailer'].head()"
   ]
  },
  {
   "cell_type": "code",
   "execution_count": 8,
   "metadata": {},
   "outputs": [],
   "source": [
    "users_to_predict = pd.read_csv(\"/gpfs/gpfs0/k.gizatullin/sbermarket/data/sample_submission.csv\")['Id']"
   ]
  },
  {
   "cell_type": "code",
   "execution_count": 9,
   "metadata": {},
   "outputs": [
    {
     "data": {
      "text/plain": [
       "(107068,)"
      ]
     },
     "execution_count": 9,
     "metadata": {},
     "output_type": "execute_result"
    }
   ],
   "source": [
    "users_to_predict.shape"
   ]
  },
  {
   "cell_type": "code",
   "execution_count": 10,
   "metadata": {},
   "outputs": [
    {
     "data": {
      "text/plain": [
       "array([     72,      83,     142, ..., 3432977, 3433000, 3433023])"
      ]
     },
     "execution_count": 10,
     "metadata": {},
     "output_type": "execute_result"
    }
   ],
   "source": [
    "orders_all['user_id'].values"
   ]
  },
  {
   "cell_type": "code",
   "execution_count": 11,
   "metadata": {},
   "outputs": [
    {
     "name": "stderr",
     "output_type": "stream",
     "text": [
      "<ipython-input-11-7e13f1f3b247>:1: DeprecationWarning: elementwise comparison failed; this will raise an error in the future.\n",
      "  orders_all['user_id'].values in users_to_predict.values\n"
     ]
    },
    {
     "data": {
      "text/plain": [
       "False"
      ]
     },
     "execution_count": 11,
     "metadata": {},
     "output_type": "execute_result"
    }
   ],
   "source": [
    "\n",
    "orders_all['user_id'].values in users_to_predict.values"
   ]
  },
  {
   "cell_type": "code",
   "execution_count": 12,
   "metadata": {},
   "outputs": [],
   "source": [
    "orders_of_users = orders_all[orders_all['user_id'].isin(users_to_predict)]"
   ]
  },
  {
   "cell_type": "code",
   "execution_count": 13,
   "metadata": {},
   "outputs": [
    {
     "name": "stderr",
     "output_type": "stream",
     "text": [
      "<ipython-input-13-21277f2b3886>:1: SettingWithCopyWarning: \n",
      "A value is trying to be set on a copy of a slice from a DataFrame.\n",
      "Try using .loc[row_indexer,col_indexer] = value instead\n",
      "\n",
      "See the caveats in the documentation: https://pandas.pydata.org/pandas-docs/stable/user_guide/indexing.html#returning-a-view-versus-a-copy\n",
      "  orders_of_users['order_created_time'] = pd.to_datetime(orders_of_users['order_created_time'])\n"
     ]
    }
   ],
   "source": [
    "orders_of_users['order_created_time'] = pd.to_datetime(orders_of_users['order_created_time'])"
   ]
  },
  {
   "cell_type": "code",
   "execution_count": 34,
   "metadata": {},
   "outputs": [
    {
     "data": {
      "text/html": [
       "<div>\n",
       "<style scoped>\n",
       "    .dataframe tbody tr th:only-of-type {\n",
       "        vertical-align: middle;\n",
       "    }\n",
       "\n",
       "    .dataframe tbody tr th {\n",
       "        vertical-align: top;\n",
       "    }\n",
       "\n",
       "    .dataframe thead th {\n",
       "        text-align: right;\n",
       "    }\n",
       "</style>\n",
       "<table border=\"1\" class=\"dataframe\">\n",
       "  <thead>\n",
       "    <tr style=\"text-align: right;\">\n",
       "      <th></th>\n",
       "      <th>user_id</th>\n",
       "      <th>order_id</th>\n",
       "      <th>order_created_time</th>\n",
       "      <th>retailer</th>\n",
       "      <th>store_id</th>\n",
       "      <th>platform</th>\n",
       "    </tr>\n",
       "  </thead>\n",
       "  <tbody>\n",
       "    <tr>\n",
       "      <th>3</th>\n",
       "      <td>187</td>\n",
       "      <td>15952443</td>\n",
       "      <td>2020-09-01 17:34:00</td>\n",
       "      <td>ВкусВилл</td>\n",
       "      <td>533</td>\n",
       "      <td>app</td>\n",
       "    </tr>\n",
       "    <tr>\n",
       "      <th>15</th>\n",
       "      <td>400</td>\n",
       "      <td>11911561</td>\n",
       "      <td>2020-06-13 13:26:03</td>\n",
       "      <td>METRO</td>\n",
       "      <td>11</td>\n",
       "      <td>app</td>\n",
       "    </tr>\n",
       "    <tr>\n",
       "      <th>16</th>\n",
       "      <td>400</td>\n",
       "      <td>11922112</td>\n",
       "      <td>2020-06-13 16:30:57</td>\n",
       "      <td>METRO</td>\n",
       "      <td>11</td>\n",
       "      <td>app</td>\n",
       "    </tr>\n",
       "    <tr>\n",
       "      <th>17</th>\n",
       "      <td>400</td>\n",
       "      <td>12264981</td>\n",
       "      <td>2020-06-19 11:57:25</td>\n",
       "      <td>METRO</td>\n",
       "      <td>11</td>\n",
       "      <td>app</td>\n",
       "    </tr>\n",
       "    <tr>\n",
       "      <th>18</th>\n",
       "      <td>400</td>\n",
       "      <td>12749996</td>\n",
       "      <td>2020-06-29 19:14:42</td>\n",
       "      <td>METRO</td>\n",
       "      <td>11</td>\n",
       "      <td>app</td>\n",
       "    </tr>\n",
       "    <tr>\n",
       "      <th>...</th>\n",
       "      <td>...</td>\n",
       "      <td>...</td>\n",
       "      <td>...</td>\n",
       "      <td>...</td>\n",
       "      <td>...</td>\n",
       "      <td>...</td>\n",
       "    </tr>\n",
       "    <tr>\n",
       "      <th>2394748</th>\n",
       "      <td>3142774</td>\n",
       "      <td>16830235</td>\n",
       "      <td>2020-09-16 21:28:19</td>\n",
       "      <td>Лента</td>\n",
       "      <td>615</td>\n",
       "      <td>app</td>\n",
       "    </tr>\n",
       "    <tr>\n",
       "      <th>2394760</th>\n",
       "      <td>3142820</td>\n",
       "      <td>16830119</td>\n",
       "      <td>2020-09-16 21:19:44</td>\n",
       "      <td>Лента</td>\n",
       "      <td>210</td>\n",
       "      <td>app</td>\n",
       "    </tr>\n",
       "    <tr>\n",
       "      <th>2394761</th>\n",
       "      <td>3142820</td>\n",
       "      <td>17685269</td>\n",
       "      <td>2020-09-29 13:40:47</td>\n",
       "      <td>Лента</td>\n",
       "      <td>210</td>\n",
       "      <td>app</td>\n",
       "    </tr>\n",
       "    <tr>\n",
       "      <th>2394776</th>\n",
       "      <td>3142875</td>\n",
       "      <td>15626637</td>\n",
       "      <td>2020-08-26 14:20:18</td>\n",
       "      <td>Лента</td>\n",
       "      <td>732</td>\n",
       "      <td>app</td>\n",
       "    </tr>\n",
       "    <tr>\n",
       "      <th>2394777</th>\n",
       "      <td>3142875</td>\n",
       "      <td>16831064</td>\n",
       "      <td>2020-09-16 22:45:40</td>\n",
       "      <td>Лента</td>\n",
       "      <td>732</td>\n",
       "      <td>app</td>\n",
       "    </tr>\n",
       "  </tbody>\n",
       "</table>\n",
       "<p>967345 rows × 6 columns</p>\n",
       "</div>"
      ],
      "text/plain": [
       "         user_id  order_id  order_created_time  retailer  store_id platform\n",
       "3            187  15952443 2020-09-01 17:34:00  ВкусВилл       533      app\n",
       "15           400  11911561 2020-06-13 13:26:03     METRO        11      app\n",
       "16           400  11922112 2020-06-13 16:30:57     METRO        11      app\n",
       "17           400  12264981 2020-06-19 11:57:25     METRO        11      app\n",
       "18           400  12749996 2020-06-29 19:14:42     METRO        11      app\n",
       "...          ...       ...                 ...       ...       ...      ...\n",
       "2394748  3142774  16830235 2020-09-16 21:28:19     Лента       615      app\n",
       "2394760  3142820  16830119 2020-09-16 21:19:44     Лента       210      app\n",
       "2394761  3142820  17685269 2020-09-29 13:40:47     Лента       210      app\n",
       "2394776  3142875  15626637 2020-08-26 14:20:18     Лента       732      app\n",
       "2394777  3142875  16831064 2020-09-16 22:45:40     Лента       732      app\n",
       "\n",
       "[967345 rows x 6 columns]"
      ]
     },
     "execution_count": 34,
     "metadata": {},
     "output_type": "execute_result"
    }
   ],
   "source": [
    "orders_of_users"
   ]
  },
  {
   "cell_type": "code",
   "execution_count": 42,
   "metadata": {},
   "outputs": [],
   "source": [
    "users_logs = orders_of_users.groupby('user_id')"
   ]
  },
  {
   "cell_type": "code",
   "execution_count": 50,
   "metadata": {},
   "outputs": [
    {
     "data": {
      "text/plain": [
       "Int64Index([26, 27, 28, 29, 30, 31, 32, 33, 34, 35], dtype='int64')"
      ]
     },
     "execution_count": 50,
     "metadata": {},
     "output_type": "execute_result"
    }
   ],
   "source": [
    "users_logs.groups[576]"
   ]
  },
  {
   "cell_type": "code",
   "execution_count": 14,
   "metadata": {},
   "outputs": [],
   "source": [
    "user_retailer = orders_of_users.groupby(by=['user_id']).agg(lambda x:x.value_counts().index[0])"
   ]
  },
  {
   "cell_type": "code",
   "execution_count": 15,
   "metadata": {},
   "outputs": [
    {
     "data": {
      "text/plain": [
       "array(['ВкусВилл', 'METRO', 'SELGROS', 'Ашан', 'Лента', 'BILLA',\n",
       "       'ВИКТОРИЯ', 'МЕГАМАРТ', 'REAL', 'Фреш25', 'Аллея', 'Бахетле',\n",
       "       'Командор', 'Быстроном', 'Азбука Вкуса', 'ЗЕЛЕНОЕ ЯБЛОКО',\n",
       "       'МАГНОЛИЯ', 'Мираторг', 'Home Market', 'Хороший', 'КАРАВАН',\n",
       "       'МаксМаркет', 'ВЕГА', 'ИДЕЯ', 'ТИТАН', 'СЕДЬМАЯ СТОЛИЦА',\n",
       "       'УДАЧНАЯ ПОКУПКА', 'ПАРУС', 'Бетховен '], dtype=object)"
      ]
     },
     "execution_count": 15,
     "metadata": {},
     "output_type": "execute_result"
    }
   ],
   "source": [
    "user_retailer['retailer'].unique()"
   ]
  },
  {
   "cell_type": "code",
   "execution_count": 16,
   "metadata": {},
   "outputs": [
    {
     "data": {
      "text/plain": [
       "<AxesSubplot:>"
      ]
     },
     "execution_count": 16,
     "metadata": {},
     "output_type": "execute_result"
    },
    {
     "data": {
      "image/png": "[encoded data removed]",
      "text/plain": [
       "<Figure size 432x288 with 1 Axes>"
      ]
     },
     "metadata": {
      "needs_background": "light"
     },
     "output_type": "display_data"
    }
   ],
   "source": [
    "user_retailer['retailer'].value_counts().plot(kind='bar')"
   ]
  },
  {
   "cell_type": "code",
   "execution_count": null,
   "metadata": {},
   "outputs": [],
   "source": [
    "september_csv.shape"
   ]
  },
  {
   "cell_type": "code",
   "execution_count": null,
   "metadata": {},
   "outputs": [],
   "source": [
    "september_csv.head()"
   ]
  },
  {
   "cell_type": "code",
   "execution_count": 18,
   "metadata": {},
   "outputs": [
    {
     "data": {
      "text/plain": [
       "(3167955,)"
      ]
     },
     "execution_count": 18,
     "metadata": {},
     "output_type": "execute_result"
    }
   ],
   "source": [
    "september_csv['line_item_id'].unique().shape"
   ]
  },
  {
   "cell_type": "code",
   "execution_count": 27,
   "metadata": {},
   "outputs": [],
   "source": [
    "test_values_counts = september_csv['product_id'].value_counts(sort=True, normalize=False)"
   ]
  },
  {
   "cell_type": "code",
   "execution_count": 54,
   "metadata": {},
   "outputs": [
    {
     "data": {
      "text/plain": [
       "(72222,)"
      ]
     },
     "execution_count": 54,
     "metadata": {},
     "output_type": "execute_result"
    }
   ],
   "source": [
    "test_values_counts.shape"
   ]
  },
  {
   "cell_type": "code",
   "execution_count": 28,
   "metadata": {},
   "outputs": [
    {
     "data": {
      "text/plain": [
       "20757"
      ]
     },
     "execution_count": 28,
     "metadata": {},
     "output_type": "execute_result"
    }
   ],
   "source": [
    "test_values_counts.max()"
   ]
  },
  {
   "cell_type": "code",
   "execution_count": 53,
   "metadata": {},
   "outputs": [
    {
     "data": {
      "text/plain": [
       "134"
      ]
     },
     "execution_count": 53,
     "metadata": {},
     "output_type": "execute_result"
    }
   ],
   "source": [
    "test_values_counts.values[5000]"
   ]
  },
  {
   "cell_type": "code",
   "execution_count": 51,
   "metadata": {},
   "outputs": [
    {
     "data": {
      "text/plain": [
       "array([[      0,   20757],\n",
       "       [    709,   14040],\n",
       "       [  39590,   12023],\n",
       "       ...,\n",
       "       [3859880,       1],\n",
       "       [8017342,       1],\n",
       "       [  39536,       1]])"
      ]
     },
     "execution_count": 51,
     "metadata": {},
     "output_type": "execute_result"
    }
   ],
   "source": [
    "np.vstack((np.array(test_values_counts.index), test_values_counts.values)).astype(int).T"
   ]
  },
  {
   "cell_type": "code",
   "execution_count": 52,
   "metadata": {},
   "outputs": [],
   "source": [
    "np.savetxt(\"/gpfs/gpfs0/k.gizatullin/sbermarket/sorted_items.txt\", \n",
    "           np.vstack((np.array(test_values_counts.index), test_values_counts.values)).astype(int).T)"
   ]
  },
  {
   "cell_type": "code",
   "execution_count": 63,
   "metadata": {},
   "outputs": [],
   "source": [
    "plt.rcParams.update({'font.size': 22})"
   ]
  },
  {
   "cell_type": "code",
   "execution_count": 65,
   "metadata": {},
   "outputs": [
    {
     "data": {
      "text/plain": [
       "Text(0.5, 1.0, 'Filtering unpopular items')"
      ]
     },
     "execution_count": 65,
     "metadata": {},
     "output_type": "execute_result"
    },
    {
     "data": {
      "image/png": "[encoded data removed]",
      "text/plain": [
       "<Figure size 1080x720 with 1 Axes>"
      ]
     },
     "metadata": {
      "needs_background": "light"
     },
     "output_type": "display_data"
    }
   ],
   "source": [
    "plt.figure(figsize=(15,10))\n",
    "plt.hist(test_values_counts.values, bins=1000)\n",
    "plt.yscale('log')\n",
    "# plt.xscale('log')\n",
    "plt.xlabel('number of purchases')\n",
    "plt.ylabel('number of items with this frequency')\n",
    "plt.title('Filtering unpopular items')\n"
   ]
  },
  {
   "cell_type": "code",
   "execution_count": null,
   "metadata": {},
   "outputs": [],
   "source": []
  }
 ],
 "metadata": {
  "kernelspec": {
   "display_name": "Python 3",
   "language": "python",
   "name": "python3"
  },
  "language_info": {
   "codemirror_mode": {
    "name": "ipython",
    "version": 3
   },
   "file_extension": ".py",
   "mimetype": "text/x-python",
   "name": "python",
   "nbconvert_exporter": "python",
   "pygments_lexer": "ipython3",
   "version": "3.8.5"
  }
 },
 "nbformat": 4,
 "nbformat_minor": 4
}
