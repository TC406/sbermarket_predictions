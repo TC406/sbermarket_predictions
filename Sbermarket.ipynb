{
  "nbformat": 4,
  "nbformat_minor": 0,
  "metadata": {
    "colab": {
      "name": "Sbermarket.ipynb",
      "provenance": [],
      "collapsed_sections": []
    },
    "kernelspec": {
      "name": "python3",
      "display_name": "Python 3"
    },
    "accelerator": "GPU"
  },
  "cells": [
    {
      "cell_type": "code",
      "metadata": {
        "id": "vFPx9UniMQsV",
        "outputId": "51b03051-81f5-49cc-f47a-53cef4e97710",
        "colab": {
          "base_uri": "https://localhost:8080/",
          "height": 225
        }
      },
      "source": [
        "!pip install kaggle"
      ],
      "execution_count": 1,
      "outputs": [
        {
          "output_type": "stream",
          "text": [
            "Requirement already satisfied: kaggle in /usr/local/lib/python3.6/dist-packages (1.5.8)\n",
            "Requirement already satisfied: six>=1.10 in /usr/local/lib/python3.6/dist-packages (from kaggle) (1.15.0)\n",
            "Requirement already satisfied: python-dateutil in /usr/local/lib/python3.6/dist-packages (from kaggle) (2.8.1)\n",
            "Requirement already satisfied: tqdm in /usr/local/lib/python3.6/dist-packages (from kaggle) (4.41.1)\n",
            "Requirement already satisfied: slugify in /usr/local/lib/python3.6/dist-packages (from kaggle) (0.0.1)\n",
            "Requirement already satisfied: urllib3<1.25,>=1.21.1 in /usr/local/lib/python3.6/dist-packages (from kaggle) (1.24.3)\n",
            "Requirement already satisfied: python-slugify in /usr/local/lib/python3.6/dist-packages (from kaggle) (4.0.1)\n",
            "Requirement already satisfied: certifi in /usr/local/lib/python3.6/dist-packages (from kaggle) (2020.6.20)\n",
            "Requirement already satisfied: requests in /usr/local/lib/python3.6/dist-packages (from kaggle) (2.23.0)\n",
            "Requirement already satisfied: text-unidecode>=1.3 in /usr/local/lib/python3.6/dist-packages (from python-slugify->kaggle) (1.3)\n",
            "Requirement already satisfied: idna<3,>=2.5 in /usr/local/lib/python3.6/dist-packages (from requests->kaggle) (2.10)\n",
            "Requirement already satisfied: chardet<4,>=3.0.2 in /usr/local/lib/python3.6/dist-packages (from requests->kaggle) (3.0.4)\n"
          ],
          "name": "stdout"
        }
      ]
    },
    {
      "cell_type": "code",
      "metadata": {
        "id": "hoe_IvM-Mjtc",
        "outputId": "1f77d5b2-14f3-4534-9d41-838cca26dff3",
        "colab": {
          "base_uri": "https://localhost:8080/",
          "height": 34
        }
      },
      "source": [
        "!mkdir ~/.kaggle\n",
        "!cp /content/kaggle.json ~/.kaggle/kaggle.json"
      ],
      "execution_count": 6,
      "outputs": [
        {
          "output_type": "stream",
          "text": [
            "mkdir: cannot create directory ‘/root/.kaggle’: File exists\n"
          ],
          "name": "stdout"
        }
      ]
    },
    {
      "cell_type": "code",
      "metadata": {
        "id": "Zzo8xzuJKW2w",
        "outputId": "5005cb07-ee88-43a4-e285-0cef2a5b23b9",
        "colab": {
          "base_uri": "https://localhost:8080/",
          "height": 1000
        }
      },
      "source": [
        "!kaggle competitions download -c test-recsys"
      ],
      "execution_count": 7,
      "outputs": [
        {
          "output_type": "stream",
          "text": [
            "Warning: Your Kaggle API key is readable by other users on this system! To fix this, you can run 'chmod 600 /root/.kaggle/kaggle.json'\n",
            "Warning: Looks like you're using an outdated API Version, please consider updating (server 1.5.6 / client 1.5.4)\n",
            "Downloading tab_2_products_2020-05-30.csv.zip to /content\n",
            " 91% 137M/150M [00:01<00:00, 110MB/s]\n",
            "100% 150M/150M [00:01<00:00, 88.9MB/s]\n",
            "Downloading tab_2_products_2020-05-10.csv.zip to /content\n",
            " 90% 129M/144M [00:02<00:00, 55.9MB/s]\n",
            "100% 144M/144M [00:02<00:00, 68.4MB/s]\n",
            "Downloading tab_2_products_2020-05-20.csv.zip to /content\n",
            " 87% 135M/156M [00:01<00:00, 119MB/s]\n",
            "100% 156M/156M [00:01<00:00, 143MB/s]\n",
            "Downloading tab_2_products_2020-04-20.csv.zip to /content\n",
            " 82% 89.0M/108M [00:01<00:00, 42.9MB/s]\n",
            "100% 108M/108M [00:01<00:00, 67.5MB/s] \n",
            "Downloading tab_2_products_2020-04-10.csv.zip to /content\n",
            " 99% 95.0M/96.2M [00:00<00:00, 132MB/s]\n",
            "100% 96.2M/96.2M [00:00<00:00, 148MB/s]\n",
            "Downloading tab_2_products_2020-04-30.csv.zip to /content\n",
            " 92% 126M/137M [00:03<00:00, 23.9MB/s]\n",
            "100% 137M/137M [00:03<00:00, 40.3MB/s]\n",
            "Downloading tab_2_products_2020-03-21.csv.zip to /content\n",
            " 98% 58.0M/59.0M [00:00<00:00, 55.4MB/s]\n",
            "100% 59.0M/59.0M [00:00<00:00, 80.5MB/s]\n",
            "Downloading tab_2_products_2020-03-11.csv.zip to /content\n",
            " 85% 41.0M/48.0M [00:00<00:00, 56.6MB/s]\n",
            "100% 48.0M/48.0M [00:00<00:00, 89.1MB/s]\n",
            "Downloading tab_2_products_2020-01-01.csv.zip to /content\n",
            "  0% 0.00/11.2M [00:00<?, ?B/s]\n",
            "100% 11.2M/11.2M [00:00<00:00, 103MB/s]\n",
            "Downloading tab_2_products_2020-03-31.csv.zip to /content\n",
            " 90% 67.0M/74.7M [00:00<00:00, 45.2MB/s]\n",
            "100% 74.7M/74.7M [00:00<00:00, 127MB/s] \n",
            "Downloading tab_2_products_2020-01-11.csv.zip to /content\n",
            " 56% 9.00M/16.1M [00:00<00:00, 40.2MB/s]\n",
            "100% 16.1M/16.1M [00:00<00:00, 53.8MB/s]\n",
            "Downloading tab_2_products_2020-02-20.csv.zip to /content\n",
            " 83% 24.0M/29.0M [00:00<00:00, 45.5MB/s]\n",
            "100% 29.0M/29.0M [00:00<00:00, 74.3MB/s]\n",
            "Downloading tab_2_products_2020-01-21.csv.zip to /content\n",
            " 27% 5.00M/18.8M [00:00<00:00, 17.7MB/s]\n",
            "100% 18.8M/18.8M [00:00<00:00, 54.0MB/s]\n",
            "Downloading tab_2_products_2020-02-10.csv.zip to /content\n",
            " 69% 17.0M/24.8M [00:00<00:00, 45.8MB/s]\n",
            "100% 24.8M/24.8M [00:00<00:00, 55.9MB/s]\n",
            "Downloading tab_2_products_2020-03-01.csv.zip to /content\n",
            " 99% 29.0M/29.4M [00:00<00:00, 31.2MB/s]\n",
            "100% 29.4M/29.4M [00:00<00:00, 84.6MB/s]\n",
            "Downloading tab_2_products_2020-01-31.csv.zip to /content\n",
            " 73% 17.0M/23.2M [00:00<00:00, 25.0MB/s]\n",
            "100% 23.2M/23.2M [00:00<00:00, 28.1MB/s]\n",
            "Downloading tab_2_products_2020-06-29.csv.zip to /content\n",
            " 89% 92.0M/103M [00:00<00:00, 99.9MB/s]\n",
            "100% 103M/103M [00:00<00:00, 117MB/s]  \n",
            "Downloading tab_2_products_2020-06-09.csv.zip to /content\n",
            " 95% 122M/128M [00:01<00:00, 62.9MB/s] \n",
            "100% 128M/128M [00:01<00:00, 84.8MB/s]\n",
            "Downloading tab_2_products_2020-06-19.csv.zip to /content\n",
            " 94% 105M/111M [00:00<00:00, 125MB/s] \n",
            "100% 111M/111M [00:00<00:00, 140MB/s]\n",
            "Downloading tab_3_categories.csv to /content\n",
            "  0% 0.00/44.3k [00:00<?, ?B/s]\n",
            "100% 44.3k/44.3k [00:00<00:00, 46.1MB/s]\n",
            "Downloading tab_1_orders.csv.zip to /content\n",
            " 29% 9.00M/31.3M [00:00<00:00, 38.4MB/s]\n",
            "100% 31.3M/31.3M [00:00<00:00, 90.1MB/s]\n",
            "Downloading tab_4_user_profiles.csv.zip to /content\n",
            "  0% 0.00/1.94M [00:00<?, ?B/s]\n",
            "100% 1.94M/1.94M [00:00<00:00, 125MB/s]\n",
            "Downloading tab_5_product_properties.csv.zip to /content\n",
            " 88% 49.0M/55.6M [00:00<00:00, 101MB/s] \n",
            "100% 55.6M/55.6M [00:00<00:00, 104MB/s]\n",
            "Downloading tab_2_products_2020-08-08.csv.zip to /content\n",
            " 89% 97.0M/109M [00:02<00:00, 30.8MB/s]\n",
            "100% 109M/109M [00:02<00:00, 53.9MB/s] \n",
            "Downloading tab_2_products_2020-08-18.csv.zip to /content\n",
            " 94% 105M/111M [00:00<00:00, 97.9MB/s] \n",
            "100% 111M/111M [00:00<00:00, 133MB/s] \n",
            "Downloading tab_2_products_2020-08-28.csv.zip to /content\n",
            "100% 120M/120M [00:01<00:00, 56.3MB/s]\n",
            "\n",
            "Downloading tab_2_products_2020-09-07.csv.zip to /content\n",
            " 86% 105M/123M [00:01<00:00, 43.3MB/s] \n",
            "100% 123M/123M [00:02<00:00, 62.2MB/s]\n",
            "Downloading tab_2_products_2020-07-29.csv.zip to /content\n",
            " 96% 100M/104M [00:00<00:00, 123MB/s]  \n",
            "100% 104M/104M [00:00<00:00, 134MB/s]\n",
            "Downloading tab_2_products_2020-07-19.csv.zip to /content\n",
            " 91% 95.0M/104M [00:01<00:00, 35.6MB/s]\n",
            "100% 104M/104M [00:01<00:00, 58.9MB/s] \n",
            "Downloading tab_2_products_2020-07-09.csv.zip to /content\n",
            " 97% 108M/112M [00:00<00:00, 123MB/s] \n",
            "100% 112M/112M [00:00<00:00, 153MB/s]\n",
            "Downloading tab_6_city.csv to /content\n",
            "  0% 0.00/16.2k [00:00<?, ?B/s]\n",
            "100% 16.2k/16.2k [00:00<00:00, 16.7MB/s]\n",
            "Downloading sample_submission.csv.zip to /content\n",
            " 44% 9.00M/20.4M [00:00<00:01, 11.6MB/s]\n",
            "100% 20.4M/20.4M [00:00<00:00, 24.6MB/s]\n"
          ],
          "name": "stdout"
        }
      ]
    },
    {
      "cell_type": "code",
      "metadata": {
        "id": "vRBu4-hqM_8D"
      },
      "source": [
        "import os\n",
        "import pandas as pd\n",
        "import zipfile\n",
        "from tqdm import tqdm"
      ],
      "execution_count": 8,
      "outputs": []
    },
    {
      "cell_type": "code",
      "metadata": {
        "id": "_Mtn6_RFPeuL",
        "outputId": "52e554d2-d13f-479b-bf42-2da56f154812",
        "colab": {
          "base_uri": "https://localhost:8080/",
          "height": 295
        }
      },
      "source": [
        "df_list = []\n",
        "products_files = [filename for filename in os.listdir() if filename.startswith('tab_2')]\n",
        "products_files.sort()\n",
        "\n",
        "for zipname in tqdm(products_files[-5:]):\n",
        "  zf = zipfile.ZipFile(zipname)\n",
        "  for name in tqdm(zf.namelist()):\n",
        "    df_list.append(pd.read_csv(zf.open(name)))"
      ],
      "execution_count": 9,
      "outputs": [
        {
          "output_type": "stream",
          "text": [
            "  0%|          | 0/5 [00:00<?, ?it/s]\n",
            "  0%|          | 0/1 [00:00<?, ?it/s]\u001b[A\n",
            "100%|██████████| 1/1 [00:07<00:00,  7.16s/it]\n",
            " 20%|██        | 1/5 [00:07<00:28,  7.17s/it]\n",
            "  0%|          | 0/1 [00:00<?, ?it/s]\u001b[A\n",
            "100%|██████████| 1/1 [00:07<00:00,  7.39s/it]\n",
            " 40%|████      | 2/5 [00:14<00:21,  7.24s/it]\n",
            "  0%|          | 0/1 [00:00<?, ?it/s]\u001b[A\n",
            "100%|██████████| 1/1 [00:07<00:00,  7.52s/it]\n",
            " 60%|██████    | 3/5 [00:22<00:14,  7.33s/it]\n",
            "  0%|          | 0/1 [00:00<?, ?it/s]\u001b[A\n",
            "100%|██████████| 1/1 [00:08<00:00,  8.08s/it]\n",
            " 80%|████████  | 4/5 [00:30<00:07,  7.55s/it]\n",
            "  0%|          | 0/1 [00:00<?, ?it/s]\u001b[A\n",
            "100%|██████████| 1/1 [00:08<00:00,  8.19s/it]\n",
            "100%|██████████| 5/5 [00:38<00:00,  7.68s/it]\n"
          ],
          "name": "stderr"
        }
      ]
    },
    {
      "cell_type": "code",
      "metadata": {
        "id": "WlRMOdjOQf55"
      },
      "source": [
        "products_data = pd.concat(df_list)"
      ],
      "execution_count": 10,
      "outputs": []
    },
    {
      "cell_type": "code",
      "metadata": {
        "id": "ssFhKFWVSHhc",
        "outputId": "1a587b06-d1b4-4076-9ed8-a716cf01d020",
        "colab": {
          "base_uri": "https://localhost:8080/",
          "height": 206
        }
      },
      "source": [
        "products_data.head()"
      ],
      "execution_count": 11,
      "outputs": [
        {
          "output_type": "execute_result",
          "data": {
            "text/html": [
              "<div>\n",
              "<style scoped>\n",
              "    .dataframe tbody tr th:only-of-type {\n",
              "        vertical-align: middle;\n",
              "    }\n",
              "\n",
              "    .dataframe tbody tr th {\n",
              "        vertical-align: top;\n",
              "    }\n",
              "\n",
              "    .dataframe thead th {\n",
              "        text-align: right;\n",
              "    }\n",
              "</style>\n",
              "<table border=\"1\" class=\"dataframe\">\n",
              "  <thead>\n",
              "    <tr style=\"text-align: right;\">\n",
              "      <th></th>\n",
              "      <th>user_id</th>\n",
              "      <th>order_id</th>\n",
              "      <th>line_item_id</th>\n",
              "      <th>price</th>\n",
              "      <th>quantity</th>\n",
              "      <th>discount</th>\n",
              "      <th>product_name</th>\n",
              "      <th>product_id</th>\n",
              "      <th>brand_name</th>\n",
              "      <th>master_category_id</th>\n",
              "      <th>parent_category_id</th>\n",
              "    </tr>\n",
              "  </thead>\n",
              "  <tbody>\n",
              "    <tr>\n",
              "      <th>0</th>\n",
              "      <td>51</td>\n",
              "      <td>13911065</td>\n",
              "      <td>145635438</td>\n",
              "      <td>149.899994</td>\n",
              "      <td>1</td>\n",
              "      <td>0.0</td>\n",
              "      <td>Кукуруза сладкая в вакууме 230 г</td>\n",
              "      <td>6005183</td>\n",
              "      <td>Без бренда</td>\n",
              "      <td>85.0</td>\n",
              "      <td>84</td>\n",
              "    </tr>\n",
              "    <tr>\n",
              "      <th>1</th>\n",
              "      <td>51</td>\n",
              "      <td>13911065</td>\n",
              "      <td>145635468</td>\n",
              "      <td>74.900002</td>\n",
              "      <td>1</td>\n",
              "      <td>0.0</td>\n",
              "      <td>Морковь Белая Дача сочная 250 г</td>\n",
              "      <td>15148</td>\n",
              "      <td>Белая Дача</td>\n",
              "      <td>85.0</td>\n",
              "      <td>84</td>\n",
              "    </tr>\n",
              "    <tr>\n",
              "      <th>2</th>\n",
              "      <td>51</td>\n",
              "      <td>13911065</td>\n",
              "      <td>145635515</td>\n",
              "      <td>149.899994</td>\n",
              "      <td>5</td>\n",
              "      <td>0.0</td>\n",
              "      <td>Томаты Черри Мое лето Санрайз красные 250 г</td>\n",
              "      <td>63057</td>\n",
              "      <td>Мое лето</td>\n",
              "      <td>85.0</td>\n",
              "      <td>84</td>\n",
              "    </tr>\n",
              "    <tr>\n",
              "      <th>3</th>\n",
              "      <td>51</td>\n",
              "      <td>13911065</td>\n",
              "      <td>145635542</td>\n",
              "      <td>99.900002</td>\n",
              "      <td>1</td>\n",
              "      <td>0.0</td>\n",
              "      <td>Огурцы Луховицкие</td>\n",
              "      <td>3497570</td>\n",
              "      <td>Без бренда</td>\n",
              "      <td>85.0</td>\n",
              "      <td>84</td>\n",
              "    </tr>\n",
              "    <tr>\n",
              "      <th>4</th>\n",
              "      <td>51</td>\n",
              "      <td>13911065</td>\n",
              "      <td>145635579</td>\n",
              "      <td>59.900002</td>\n",
              "      <td>2</td>\n",
              "      <td>0.0</td>\n",
              "      <td>Томаты черри сливка</td>\n",
              "      <td>688</td>\n",
              "      <td>NaN</td>\n",
              "      <td>85.0</td>\n",
              "      <td>84</td>\n",
              "    </tr>\n",
              "  </tbody>\n",
              "</table>\n",
              "</div>"
            ],
            "text/plain": [
              "   user_id  order_id  ...  master_category_id  parent_category_id\n",
              "0       51  13911065  ...                85.0                  84\n",
              "1       51  13911065  ...                85.0                  84\n",
              "2       51  13911065  ...                85.0                  84\n",
              "3       51  13911065  ...                85.0                  84\n",
              "4       51  13911065  ...                85.0                  84\n",
              "\n",
              "[5 rows x 11 columns]"
            ]
          },
          "metadata": {
            "tags": []
          },
          "execution_count": 11
        }
      ]
    },
    {
      "cell_type": "code",
      "metadata": {
        "id": "1inAvS6-SNhY"
      },
      "source": [
        "zf = zipfile.ZipFile('/content/sample_submission.csv.zip')\n",
        "sample_submission = pd.read_csv(zf.open('sample_submission.csv'))"
      ],
      "execution_count": 12,
      "outputs": []
    },
    {
      "cell_type": "code",
      "metadata": {
        "id": "LeNcg2UWSuJh",
        "outputId": "290d41b7-30e8-484c-b9b9-a457778da35d",
        "colab": {
          "base_uri": "https://localhost:8080/",
          "height": 34
        }
      },
      "source": [
        "K = 50\n",
        "new_sub = sample_submission.copy()\n",
        "for row in tqdm(sample_submission.iterrows(), total=sample_submission.shape[0]):\n",
        "  user_id = row[1]['Id']\n",
        "  topK_list = products_data[products_data['user_id'] == user_id].groupby('product_id')['quantity'].sum().sort_values(ascending=False)[:K].index.tolist()\n",
        "  topK_list = [str(i) for i in topK_list]\n",
        "  topK_str = ' '.join(topK_list)\n",
        "  new_sub.loc[new_sub['Id'] == user_id, ['Predicted']] = topK_str"
      ],
      "execution_count": 13,
      "outputs": [
        {
          "output_type": "stream",
          "text": [
            "100%|██████████| 107068/107068 [48:54<00:00, 36.49it/s]\n"
          ],
          "name": "stderr"
        }
      ]
    },
    {
      "cell_type": "code",
      "metadata": {
        "id": "4YvB48jSX6r8"
      },
      "source": [
        "new_sub.to_csv('space_inside.csv', index=False)"
      ],
      "execution_count": 19,
      "outputs": []
    },
    {
      "cell_type": "code",
      "metadata": {
        "id": "tb-6k3svRxct"
      },
      "source": [
        ""
      ],
      "execution_count": null,
      "outputs": []
    }
  ]
}